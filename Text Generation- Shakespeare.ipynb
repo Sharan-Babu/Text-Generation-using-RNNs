{
 "cells": [
  {
   "cell_type": "code",
   "execution_count": 0,
   "metadata": {
    "colab": {},
    "colab_type": "code",
    "id": "zX4Kg8DUTKWO"
   },
   "outputs": [],
   "source": [
    "#@title Licensed under the Apache License, Version 2.0 (the \"License\");\n",
    "# you may not use this file except in compliance with the License.\n",
    "# You may obtain a copy of the License at\n",
    "#\n",
    "# https://www.apache.org/licenses/LICENSE-2.0\n",
    "#\n",
    "# Unless required by applicable law or agreed to in writing, software\n",
    "# distributed under the License is distributed on an \"AS IS\" BASIS,\n",
    "# WITHOUT WARRANTIES OR CONDITIONS OF ANY KIND, either express or implied.\n",
    "# See the License for the specific language governing permissions and\n",
    "# limitations under the License."
   ]
  },
  {
   "cell_type": "code",
   "execution_count": 0,
   "metadata": {
    "colab": {},
    "colab_type": "code",
    "id": "BOwsuGQQY9OL"
   },
   "outputs": [],
   "source": [
    "from tensorflow.keras.preprocessing.sequence import pad_sequences\n",
    "from tensorflow.keras.layers import Embedding, LSTM, Dense, Dropout, Bidirectional\n",
    "from tensorflow.keras.preprocessing.text import Tokenizer\n",
    "from tensorflow.keras.models import Sequential\n",
    "from tensorflow.keras.optimizers import Adam\n",
    "from tensorflow.keras import regularizers\n",
    "import tensorflow.keras.utils as ku \n",
    "import numpy as np "
   ]
  },
  {
   "cell_type": "code",
   "execution_count": 2,
   "metadata": {
    "colab": {
     "base_uri": "https://localhost:8080/",
     "height": 212
    },
    "colab_type": "code",
    "id": "PRnDnCW-Z7qv",
    "outputId": "99ed2218-1ef8-43f5-f2e1-f8d367c681b7"
   },
   "outputs": [
    {
     "name": "stdout",
     "output_type": "stream",
     "text": [
      "--2020-05-27 16:32:52--  https://storage.googleapis.com/laurencemoroney-blog.appspot.com/sonnets.txt\n",
      "Resolving storage.googleapis.com (storage.googleapis.com)... 74.125.142.128, 2607:f8b0:400e:c09::80\n",
      "Connecting to storage.googleapis.com (storage.googleapis.com)|74.125.142.128|:443... connected.\n",
      "HTTP request sent, awaiting response... 200 OK\n",
      "Length: 93578 (91K) [text/plain]\n",
      "Saving to: ‘/tmp/sonnets.txt’\n",
      "\n",
      "\r",
      "/tmp/sonnets.txt      0%[                    ]       0  --.-KB/s               \r",
      "/tmp/sonnets.txt    100%[===================>]  91.38K  --.-KB/s    in 0.001s  \n",
      "\n",
      "2020-05-27 16:32:52 (92.4 MB/s) - ‘/tmp/sonnets.txt’ saved [93578/93578]\n",
      "\n"
     ]
    }
   ],
   "source": [
    "tokenizer = Tokenizer()\n",
    "!wget --no-check-certificate \\\n",
    "    https://storage.googleapis.com/laurencemoroney-blog.appspot.com/sonnets.txt \\\n",
    "    -O /tmp/sonnets.txt\n",
    "data = open('/tmp/sonnets.txt').read()\n",
    "\n",
    "corpus = data.lower().split(\"\\n\")\n",
    "\n",
    "\n",
    "tokenizer.fit_on_texts(corpus)\n",
    "total_words = len(tokenizer.word_index) + 1\n",
    "\n",
    "# create input sequences using list of tokens\n",
    "input_sequences = []\n",
    "for line in corpus:\n",
    "\ttoken_list = tokenizer.texts_to_sequences([line])[0]\n",
    "\tfor i in range(1, len(token_list)):\n",
    "\t\tn_gram_sequence = token_list[:i+1]\n",
    "\t\tinput_sequences.append(n_gram_sequence)\n",
    "\n",
    "\n",
    "# pad sequences \n",
    "max_sequence_len = max([len(x) for x in input_sequences])\n",
    "input_sequences = np.array(pad_sequences(input_sequences, maxlen=max_sequence_len, padding='pre'))\n",
    "\n",
    "# create predictors and label\n",
    "predictors, label = input_sequences[:,:-1],input_sequences[:,-1]\n",
    "\n",
    "label = ku.to_categorical(label, num_classes=total_words)"
   ]
  },
  {
   "cell_type": "code",
   "execution_count": 3,
   "metadata": {
    "colab": {
     "base_uri": "https://localhost:8080/",
     "height": 390
    },
    "colab_type": "code",
    "id": "w9vH8Y59ajYL",
    "outputId": "d10568fc-60f2-43c1-be8d-e7a7f93c9115"
   },
   "outputs": [
    {
     "name": "stdout",
     "output_type": "stream",
     "text": [
      "Model: \"sequential\"\n",
      "_________________________________________________________________\n",
      "Layer (type)                 Output Shape              Param #   \n",
      "=================================================================\n",
      "embedding (Embedding)        (None, 10, 100)           321100    \n",
      "_________________________________________________________________\n",
      "bidirectional (Bidirectional (None, 10, 300)           301200    \n",
      "_________________________________________________________________\n",
      "dropout (Dropout)            (None, 10, 300)           0         \n",
      "_________________________________________________________________\n",
      "lstm_1 (LSTM)                (None, 100)               160400    \n",
      "_________________________________________________________________\n",
      "dense (Dense)                (None, 1605)              162105    \n",
      "_________________________________________________________________\n",
      "dense_1 (Dense)              (None, 3211)              5156866   \n",
      "=================================================================\n",
      "Total params: 6,101,671\n",
      "Trainable params: 6,101,671\n",
      "Non-trainable params: 0\n",
      "_________________________________________________________________\n",
      "None\n"
     ]
    }
   ],
   "source": [
    "model = Sequential()\n",
    "model.add(Embedding(total_words, 100, input_length=max_sequence_len-1))\n",
    "model.add(Bidirectional(LSTM(150, return_sequences = True)))\n",
    "model.add(Dropout(0.2))\n",
    "model.add(LSTM(100))\n",
    "model.add(Dense(total_words/2, activation='relu', kernel_regularizer=regularizers.l2(0.01)))\n",
    "model.add(Dense(total_words, activation='softmax'))\n",
    "model.compile(loss='categorical_crossentropy', optimizer='adam', metrics=['accuracy'])\n",
    "print(model.summary())\n"
   ]
  },
  {
   "cell_type": "code",
   "execution_count": 4,
   "metadata": {
    "colab": {
     "base_uri": "https://localhost:8080/",
     "height": 1000
    },
    "colab_type": "code",
    "id": "AIg2f1HBxqof",
    "outputId": "f5947f05-65b6-48ae-c868-7248de43be4f"
   },
   "outputs": [
    {
     "name": "stdout",
     "output_type": "stream",
     "text": [
      "Epoch 1/100\n",
      "484/484 [==============================] - 5s 10ms/step - loss: 6.9164 - accuracy: 0.0200\n",
      "Epoch 2/100\n",
      "484/484 [==============================] - 5s 10ms/step - loss: 6.5051 - accuracy: 0.0197\n",
      "Epoch 3/100\n",
      "484/484 [==============================] - 5s 10ms/step - loss: 6.4142 - accuracy: 0.0247\n",
      "Epoch 4/100\n",
      "484/484 [==============================] - 5s 10ms/step - loss: 6.2996 - accuracy: 0.0296\n",
      "Epoch 5/100\n",
      "484/484 [==============================] - 5s 10ms/step - loss: 6.1984 - accuracy: 0.0324\n",
      "Epoch 6/100\n",
      "484/484 [==============================] - 5s 10ms/step - loss: 6.1149 - accuracy: 0.0396\n",
      "Epoch 7/100\n",
      "484/484 [==============================] - 5s 10ms/step - loss: 6.0343 - accuracy: 0.0393\n",
      "Epoch 8/100\n",
      "484/484 [==============================] - 5s 10ms/step - loss: 5.9524 - accuracy: 0.0440\n",
      "Epoch 9/100\n",
      "484/484 [==============================] - 5s 10ms/step - loss: 5.8756 - accuracy: 0.0478\n",
      "Epoch 10/100\n",
      "484/484 [==============================] - 5s 10ms/step - loss: 5.7869 - accuracy: 0.0536\n",
      "Epoch 11/100\n",
      "484/484 [==============================] - 5s 10ms/step - loss: 5.6999 - accuracy: 0.0589\n",
      "Epoch 12/100\n",
      "484/484 [==============================] - 5s 10ms/step - loss: 5.6033 - accuracy: 0.0632\n",
      "Epoch 13/100\n",
      "484/484 [==============================] - 5s 10ms/step - loss: 5.5147 - accuracy: 0.0700\n",
      "Epoch 14/100\n",
      "484/484 [==============================] - 5s 10ms/step - loss: 5.4331 - accuracy: 0.0745\n",
      "Epoch 15/100\n",
      "484/484 [==============================] - 5s 10ms/step - loss: 5.3480 - accuracy: 0.0764\n",
      "Epoch 16/100\n",
      "484/484 [==============================] - 5s 10ms/step - loss: 5.2723 - accuracy: 0.0836\n",
      "Epoch 17/100\n",
      "484/484 [==============================] - 5s 10ms/step - loss: 5.1890 - accuracy: 0.0867\n",
      "Epoch 18/100\n",
      "484/484 [==============================] - 5s 10ms/step - loss: 5.1150 - accuracy: 0.0941\n",
      "Epoch 19/100\n",
      "484/484 [==============================] - 5s 10ms/step - loss: 5.0250 - accuracy: 0.1029\n",
      "Epoch 20/100\n",
      "484/484 [==============================] - 5s 10ms/step - loss: 4.9414 - accuracy: 0.1081\n",
      "Epoch 21/100\n",
      "484/484 [==============================] - 5s 10ms/step - loss: 4.8644 - accuracy: 0.1133\n",
      "Epoch 22/100\n",
      "484/484 [==============================] - 5s 10ms/step - loss: 4.7791 - accuracy: 0.1191\n",
      "Epoch 23/100\n",
      "484/484 [==============================] - 5s 10ms/step - loss: 4.6957 - accuracy: 0.1287\n",
      "Epoch 24/100\n",
      "484/484 [==============================] - 5s 10ms/step - loss: 4.6119 - accuracy: 0.1346\n",
      "Epoch 25/100\n",
      "484/484 [==============================] - 5s 10ms/step - loss: 4.5319 - accuracy: 0.1451\n",
      "Epoch 26/100\n",
      "484/484 [==============================] - 5s 10ms/step - loss: 4.4482 - accuracy: 0.1507\n",
      "Epoch 27/100\n",
      "484/484 [==============================] - 5s 10ms/step - loss: 4.3629 - accuracy: 0.1627\n",
      "Epoch 28/100\n",
      "484/484 [==============================] - 5s 10ms/step - loss: 4.2769 - accuracy: 0.1682\n",
      "Epoch 29/100\n",
      "484/484 [==============================] - 5s 10ms/step - loss: 4.1989 - accuracy: 0.1805\n",
      "Epoch 30/100\n",
      "484/484 [==============================] - 5s 10ms/step - loss: 4.1207 - accuracy: 0.1887\n",
      "Epoch 31/100\n",
      "484/484 [==============================] - 5s 10ms/step - loss: 4.0409 - accuracy: 0.2012\n",
      "Epoch 32/100\n",
      "484/484 [==============================] - 5s 10ms/step - loss: 3.9667 - accuracy: 0.2077\n",
      "Epoch 33/100\n",
      "484/484 [==============================] - 5s 10ms/step - loss: 3.8923 - accuracy: 0.2198\n",
      "Epoch 34/100\n",
      "484/484 [==============================] - 5s 10ms/step - loss: 3.8150 - accuracy: 0.2358\n",
      "Epoch 35/100\n",
      "484/484 [==============================] - 5s 10ms/step - loss: 3.7507 - accuracy: 0.2467\n",
      "Epoch 36/100\n",
      "484/484 [==============================] - 5s 10ms/step - loss: 3.6745 - accuracy: 0.2585\n",
      "Epoch 37/100\n",
      "484/484 [==============================] - 5s 10ms/step - loss: 3.5973 - accuracy: 0.2782\n",
      "Epoch 38/100\n",
      "484/484 [==============================] - 5s 10ms/step - loss: 3.5227 - accuracy: 0.2903\n",
      "Epoch 39/100\n",
      "484/484 [==============================] - 5s 10ms/step - loss: 3.4637 - accuracy: 0.3050\n",
      "Epoch 40/100\n",
      "484/484 [==============================] - 5s 10ms/step - loss: 3.4051 - accuracy: 0.3162\n",
      "Epoch 41/100\n",
      "484/484 [==============================] - 5s 10ms/step - loss: 3.3332 - accuracy: 0.3314\n",
      "Epoch 42/100\n",
      "484/484 [==============================] - 5s 10ms/step - loss: 3.2749 - accuracy: 0.3443\n",
      "Epoch 43/100\n",
      "484/484 [==============================] - 5s 10ms/step - loss: 3.2173 - accuracy: 0.3558\n",
      "Epoch 44/100\n",
      "484/484 [==============================] - 5s 10ms/step - loss: 3.1630 - accuracy: 0.3666\n",
      "Epoch 45/100\n",
      "484/484 [==============================] - 5s 10ms/step - loss: 3.0882 - accuracy: 0.3863\n",
      "Epoch 46/100\n",
      "484/484 [==============================] - 5s 10ms/step - loss: 3.0416 - accuracy: 0.3932\n",
      "Epoch 47/100\n",
      "484/484 [==============================] - 5s 10ms/step - loss: 2.9814 - accuracy: 0.4104\n",
      "Epoch 48/100\n",
      "484/484 [==============================] - 5s 10ms/step - loss: 2.9295 - accuracy: 0.4243\n",
      "Epoch 49/100\n",
      "484/484 [==============================] - 5s 10ms/step - loss: 2.8920 - accuracy: 0.4258\n",
      "Epoch 50/100\n",
      "484/484 [==============================] - 5s 10ms/step - loss: 2.8398 - accuracy: 0.4350\n",
      "Epoch 51/100\n",
      "484/484 [==============================] - 5s 10ms/step - loss: 2.7878 - accuracy: 0.4552\n",
      "Epoch 52/100\n",
      "484/484 [==============================] - 5s 10ms/step - loss: 2.7295 - accuracy: 0.4633\n",
      "Epoch 53/100\n",
      "484/484 [==============================] - 5s 10ms/step - loss: 2.6824 - accuracy: 0.4745\n",
      "Epoch 54/100\n",
      "484/484 [==============================] - 5s 11ms/step - loss: 2.6455 - accuracy: 0.4844\n",
      "Epoch 55/100\n",
      "484/484 [==============================] - 5s 11ms/step - loss: 2.5935 - accuracy: 0.4929\n",
      "Epoch 56/100\n",
      "484/484 [==============================] - 5s 11ms/step - loss: 2.5460 - accuracy: 0.5039\n",
      "Epoch 57/100\n",
      "484/484 [==============================] - 5s 10ms/step - loss: 2.5045 - accuracy: 0.5138\n",
      "Epoch 58/100\n",
      "484/484 [==============================] - 5s 10ms/step - loss: 2.4626 - accuracy: 0.5307\n",
      "Epoch 59/100\n",
      "484/484 [==============================] - 5s 10ms/step - loss: 2.4306 - accuracy: 0.5294\n",
      "Epoch 60/100\n",
      "484/484 [==============================] - 5s 11ms/step - loss: 2.3938 - accuracy: 0.5373\n",
      "Epoch 61/100\n",
      "484/484 [==============================] - 5s 10ms/step - loss: 2.3477 - accuracy: 0.5479\n",
      "Epoch 62/100\n",
      "484/484 [==============================] - 5s 10ms/step - loss: 2.3231 - accuracy: 0.5557\n",
      "Epoch 63/100\n",
      "484/484 [==============================] - 5s 10ms/step - loss: 2.2731 - accuracy: 0.5681\n",
      "Epoch 64/100\n",
      "484/484 [==============================] - 5s 10ms/step - loss: 2.2329 - accuracy: 0.5744\n",
      "Epoch 65/100\n",
      "484/484 [==============================] - 5s 10ms/step - loss: 2.2064 - accuracy: 0.5834\n",
      "Epoch 66/100\n",
      "484/484 [==============================] - 5s 10ms/step - loss: 2.1809 - accuracy: 0.5881\n",
      "Epoch 67/100\n",
      "484/484 [==============================] - 5s 10ms/step - loss: 2.1420 - accuracy: 0.5964\n",
      "Epoch 68/100\n",
      "484/484 [==============================] - 5s 10ms/step - loss: 2.1133 - accuracy: 0.6044\n",
      "Epoch 69/100\n",
      "484/484 [==============================] - 5s 10ms/step - loss: 2.0769 - accuracy: 0.6138\n",
      "Epoch 70/100\n",
      "484/484 [==============================] - 5s 10ms/step - loss: 2.0385 - accuracy: 0.6235\n",
      "Epoch 71/100\n",
      "484/484 [==============================] - 5s 10ms/step - loss: 2.0057 - accuracy: 0.6312\n",
      "Epoch 72/100\n",
      "484/484 [==============================] - 5s 10ms/step - loss: 1.9835 - accuracy: 0.6364\n",
      "Epoch 73/100\n",
      "484/484 [==============================] - 5s 10ms/step - loss: 1.9525 - accuracy: 0.6398\n",
      "Epoch 74/100\n",
      "484/484 [==============================] - 5s 10ms/step - loss: 1.9375 - accuracy: 0.6445\n",
      "Epoch 75/100\n",
      "484/484 [==============================] - 5s 10ms/step - loss: 1.9108 - accuracy: 0.6464\n",
      "Epoch 76/100\n",
      "484/484 [==============================] - 5s 10ms/step - loss: 1.8877 - accuracy: 0.6486\n",
      "Epoch 77/100\n",
      "484/484 [==============================] - 5s 10ms/step - loss: 1.8409 - accuracy: 0.6630\n",
      "Epoch 78/100\n",
      "484/484 [==============================] - 5s 10ms/step - loss: 1.8239 - accuracy: 0.6663\n",
      "Epoch 79/100\n",
      "484/484 [==============================] - 5s 10ms/step - loss: 1.7955 - accuracy: 0.6732\n",
      "Epoch 80/100\n",
      "484/484 [==============================] - 5s 10ms/step - loss: 1.7731 - accuracy: 0.6771\n",
      "Epoch 81/100\n",
      "484/484 [==============================] - 5s 10ms/step - loss: 1.7610 - accuracy: 0.6827\n",
      "Epoch 82/100\n",
      "484/484 [==============================] - 5s 10ms/step - loss: 1.7401 - accuracy: 0.6857\n",
      "Epoch 83/100\n",
      "484/484 [==============================] - 5s 10ms/step - loss: 1.7222 - accuracy: 0.6864\n",
      "Epoch 84/100\n",
      "484/484 [==============================] - 5s 10ms/step - loss: 1.6895 - accuracy: 0.6963\n",
      "Epoch 85/100\n",
      "484/484 [==============================] - 5s 10ms/step - loss: 1.6759 - accuracy: 0.6987\n",
      "Epoch 86/100\n",
      "484/484 [==============================] - 5s 10ms/step - loss: 1.6539 - accuracy: 0.7026\n",
      "Epoch 87/100\n",
      "484/484 [==============================] - 5s 10ms/step - loss: 1.6307 - accuracy: 0.7063\n",
      "Epoch 88/100\n",
      "484/484 [==============================] - 5s 10ms/step - loss: 1.6175 - accuracy: 0.7112\n",
      "Epoch 89/100\n",
      "484/484 [==============================] - 5s 10ms/step - loss: 1.5770 - accuracy: 0.7183\n",
      "Epoch 90/100\n",
      "484/484 [==============================] - 5s 10ms/step - loss: 1.5740 - accuracy: 0.7214\n",
      "Epoch 91/100\n",
      "484/484 [==============================] - 5s 10ms/step - loss: 1.5566 - accuracy: 0.7229\n",
      "Epoch 92/100\n",
      "484/484 [==============================] - 5s 10ms/step - loss: 1.5422 - accuracy: 0.7278\n",
      "Epoch 93/100\n",
      "484/484 [==============================] - 5s 10ms/step - loss: 1.5298 - accuracy: 0.7269\n",
      "Epoch 94/100\n",
      "484/484 [==============================] - 5s 10ms/step - loss: 1.5232 - accuracy: 0.7302\n",
      "Epoch 95/100\n",
      "484/484 [==============================] - 5s 10ms/step - loss: 1.5018 - accuracy: 0.7339\n",
      "Epoch 96/100\n",
      "484/484 [==============================] - 5s 10ms/step - loss: 1.4717 - accuracy: 0.7373\n",
      "Epoch 97/100\n",
      "484/484 [==============================] - 5s 10ms/step - loss: 1.4584 - accuracy: 0.7413\n",
      "Epoch 98/100\n",
      "484/484 [==============================] - 5s 10ms/step - loss: 1.4461 - accuracy: 0.7442\n",
      "Epoch 99/100\n",
      "484/484 [==============================] - 5s 10ms/step - loss: 1.4348 - accuracy: 0.7472\n",
      "Epoch 100/100\n",
      "484/484 [==============================] - 5s 10ms/step - loss: 1.4099 - accuracy: 0.7511\n"
     ]
    }
   ],
   "source": [
    " history = model.fit(predictors, label, epochs=100, verbose=1)"
   ]
  },
  {
   "cell_type": "code",
   "execution_count": 5,
   "metadata": {
    "colab": {
     "base_uri": "https://localhost:8080/",
     "height": 544
    },
    "colab_type": "code",
    "id": "1fXTEO3GJ282",
    "outputId": "f1b87de8-8530-46d1-ba4d-d8008f68fc33"
   },
   "outputs": [
    {
     "data": {
      "image/png": "[encoded data removed]",
      "text/plain": [
       "<Figure size 432x288 with 1 Axes>"
      ]
     },
     "metadata": {
      "needs_background": "light",
      "tags": []
     },
     "output_type": "display_data"
    },
    {
     "data": {
      "image/png": "[encoded data removed]",
      "text/plain": [
       "<Figure size 432x288 with 1 Axes>"
      ]
     },
     "metadata": {
      "needs_background": "light",
      "tags": []
     },
     "output_type": "display_data"
    }
   ],
   "source": [
    "import matplotlib.pyplot as plt\n",
    "acc = history.history['accuracy']\n",
    "loss = history.history['loss']\n",
    "\n",
    "epochs = range(len(acc))\n",
    "\n",
    "plt.plot(epochs, acc, 'b', label='Training accuracy')\n",
    "plt.title('Training accuracy')\n",
    "\n",
    "plt.figure()\n",
    "\n",
    "plt.plot(epochs, loss, 'b', label='Training Loss')\n",
    "plt.title('Training loss')\n",
    "plt.legend()\n",
    "\n",
    "plt.show()"
   ]
  },
  {
   "cell_type": "code",
   "execution_count": 6,
   "metadata": {
    "colab": {
     "base_uri": "https://localhost:8080/",
     "height": 107
    },
    "colab_type": "code",
    "id": "6Vc6PHgxa6Hm",
    "outputId": "4a1eeb91-62e3-4626-dc0c-c1e5ebb68a1f"
   },
   "outputs": [
    {
     "name": "stdout",
     "output_type": "stream",
     "text": [
      "WARNING:tensorflow:From <ipython-input-6-622d307fa19a>:7: Sequential.predict_classes (from tensorflow.python.keras.engine.sequential) is deprecated and will be removed after 2021-01-01.\n",
      "Instructions for updating:\n",
      "Please use instead:* `np.argmax(model.predict(x), axis=-1)`,   if your model does multi-class classification   (e.g. if it uses a `softmax` last-layer activation).* `(model.predict(x) > 0.5).astype(\"int32\")`,   if your model does binary classification   (e.g. if it uses a `sigmoid` last-layer activation).\n",
      "Help me Obi Wan Kenobi, you're my only hope do put to fullness thee 'this poet ' ' ' are write to me my flame with happy dead kind new face rare delight ' had show thee ear more skill and themselves their skill hour appear taken alone doth thee alone out beauty's part her seat is true needing despair me die face lived had will true o single tongue ' ' ' lies never words could bear too near care so strong near pluck your moan both showers new new new child of kings sight ' lies live alone was her shade shines with thee well best still\n"
     ]
    }
   ],
   "source": [
    "seed_text = \"Help me Obi Wan Kenobi, you're my only hope\"\n",
    "next_words = 100\n",
    "  \n",
    "for _ in range(next_words):\n",
    "\ttoken_list = tokenizer.texts_to_sequences([seed_text])[0]\n",
    "\ttoken_list = pad_sequences([token_list], maxlen=max_sequence_len-1, padding='pre')\n",
    "\tpredicted = model.predict_classes(token_list, verbose=0)\n",
    "\toutput_word = \"\"\n",
    "\tfor word, index in tokenizer.word_index.items():\n",
    "\t\tif index == predicted:\n",
    "\t\t\toutput_word = word\n",
    "\t\t\tbreak\n",
    "\tseed_text += \" \" + output_word\n",
    "print(seed_text)"
   ]
  },
  {
   "cell_type": "code",
   "execution_count": 0,
   "metadata": {
    "colab": {},
    "colab_type": "code",
    "id": "UzftzEGm-rmb"
   },
   "outputs": [],
   "source": [
    "import warnings\n",
    "warnings.filterwarnings('ignore')"
   ]
  },
  {
   "cell_type": "code",
   "execution_count": 9,
   "metadata": {
    "colab": {
     "base_uri": "https://localhost:8080/",
     "height": 34
    },
    "colab_type": "code",
    "id": "qxu0zmMIA_j8",
    "outputId": "d6f066a3-4b6a-4860-a254-95b451cf43ea"
   },
   "outputs": [
    {
     "name": "stdout",
     "output_type": "stream",
     "text": [
      "Sharan you are so strongly in my purpose bred both kings new skill\n"
     ]
    }
   ],
   "source": [
    "seed_text = \"Sharan you are\"\n",
    "next_words = 10\n",
    "  \n",
    "for _ in range(next_words):\n",
    "\ttoken_list = tokenizer.texts_to_sequences([seed_text])[0]\n",
    "\ttoken_list = pad_sequences([token_list], maxlen=max_sequence_len-1, padding='pre')\n",
    "\tpredicted = model.predict_classes(token_list, verbose=0)\n",
    "\toutput_word = \"\"\n",
    "\tfor word, index in tokenizer.word_index.items():\n",
    "\t\tif index == predicted:\n",
    "\t\t\toutput_word = word\n",
    "\t\t\tbreak\n",
    "\tseed_text += \" \" + output_word\n",
    "print(seed_text)"
   ]
  },
  {
   "cell_type": "code",
   "execution_count": 26,
   "metadata": {
    "colab": {
     "base_uri": "https://localhost:8080/",
     "height": 54
    },
    "colab_type": "code",
    "id": "y4GnTRtvBGRJ",
    "outputId": "2dc89d34-66eb-4f64-c3cc-85d527f761a3"
   },
   "outputs": [
    {
     "name": "stdout",
     "output_type": "stream",
     "text": [
      "I might see the world which you is hence ' ' ' ' have spent still me i look'd in thee 'tis so glory than thy pity back thee clears thence before seem had thee eyes seem best did rare one esteem'd fled prove thine eye so young ' lies stay ' took men pride weeds more mad than sea an strong hue esteem turn'd fiend alone was thee grace thee dear ' will show me love ere their love shines again ' lies pay thee thence a fiend hate lie to me so show thee show me one new might thy mind alone hold me men\n"
     ]
    }
   ],
   "source": [
    "seed_text = \"I might see the world which you\"\n",
    "next_words = 100\n",
    "  \n",
    "for _ in range(next_words):\n",
    "\ttoken_list = tokenizer.texts_to_sequences([seed_text])[0]\n",
    "\ttoken_list = pad_sequences([token_list], maxlen=max_sequence_len-1, padding='pre')\n",
    "\tpredicted = model.predict_classes(token_list, verbose=0)\n",
    "\toutput_word = \"\"\n",
    "\tfor word, index in tokenizer.word_index.items():\n",
    "\t\tif index == predicted:\n",
    "\t\t\toutput_word = word\n",
    "\t\t\tbreak\n",
    "\tseed_text += \" \" + output_word\n",
    "print(seed_text)"
   ]
  },
  {
   "cell_type": "code",
   "execution_count": 38,
   "metadata": {
    "colab": {
     "base_uri": "https://localhost:8080/",
     "height": 34
    },
    "colab_type": "code",
    "id": "YQu8EH_0BuMm",
    "outputId": "6c52c3f8-921b-4a33-e74b-e1ac1ca37a9e"
   },
   "outputs": [
    {
     "name": "stdout",
     "output_type": "stream",
     "text": [
      "I might see the world which you is\n"
     ]
    }
   ],
   "source": [
    "seed_text = \"I might see the world which you\"\n",
    "next_words = 1\n",
    "  \n",
    "for _ in range(next_words):\n",
    "\ttoken_list = tokenizer.texts_to_sequences([seed_text])[0]\n",
    "\ttoken_list = pad_sequences([token_list], maxlen=max_sequence_len-1, padding='pre')\n",
    "\tpredicted = model.predict_classes(token_list, verbose=0)\n",
    "\toutput_word = \"\"\n",
    "\tfor word, index in tokenizer.word_index.items():\n",
    "\t\tif index == predicted:\n",
    "\t\t\toutput_word = word\n",
    "\t\t\tbreak\n",
    "\tseed_text += \" \" + output_word\n",
    "print(seed_text)"
   ]
  },
  {
   "cell_type": "code",
   "execution_count": 36,
   "metadata": {
    "colab": {
     "base_uri": "https://localhost:8080/",
     "height": 34
    },
    "colab_type": "code",
    "id": "slFdUhlgCFwp",
    "outputId": "9ef722fa-043e-4eed-8068-7a2b53f93b09"
   },
   "outputs": [
    {
     "name": "stdout",
     "output_type": "stream",
     "text": [
      "[[  0   0   0   6 102  76   2  94  26  24]]\n"
     ]
    }
   ],
   "source": [
    "print(token_list)"
   ]
  },
  {
   "cell_type": "code",
   "execution_count": 39,
   "metadata": {
    "colab": {
     "base_uri": "https://localhost:8080/",
     "height": 34
    },
    "colab_type": "code",
    "id": "QPC75at0CMQo",
    "outputId": "326fb3bc-0584-4382-f232-5a331e912035"
   },
   "outputs": [
    {
     "name": "stdout",
     "output_type": "stream",
     "text": [
      "[6, 102, 76, 2, 94, 26, 24, 13]\n"
     ]
    }
   ],
   "source": [
    "token_list = tokenizer.texts_to_sequences([seed_text])[0]\n",
    "print(token_list)"
   ]
  },
  {
   "cell_type": "code",
   "execution_count": 43,
   "metadata": {
    "colab": {
     "base_uri": "https://localhost:8080/",
     "height": 34
    },
    "colab_type": "code",
    "id": "ueRGg0wFDNvw",
    "outputId": "1192733a-29db-4cf1-b677-131592b3dc4f"
   },
   "outputs": [
    {
     "name": "stdout",
     "output_type": "stream",
     "text": [
      "[[6], [], [], [6], [], [], [], [], [], [], [], [], [], [], [], [], [], [58], [], [], [], [], [], [], [6], [], [], [], [], [58], [], [], [6], []]\n"
     ]
    }
   ],
   "source": [
    "token_list = tokenizer.texts_to_sequences(seed_text)\n",
    "print(token_list)"
   ]
  }
 ],
 "metadata": {
  "accelerator": "GPU",
  "colab": {
   "name": "NLP_Week4_Exercise_Shakespeare_Answer.ipynb",
   "provenance": [],
   "toc_visible": true
  },
  "kernelspec": {
   "display_name": "Python 3",
   "language": "python",
   "name": "python3"
  },
  "language_info": {
   "codemirror_mode": {
    "name": "ipython",
    "version": 3
   },
   "file_extension": ".py",
   "mimetype": "text/x-python",
   "name": "python",
   "nbconvert_exporter": "python",
   "pygments_lexer": "ipython3",
   "version": "3.7.4"
  }
 },
 "nbformat": 4,
 "nbformat_minor": 1
}
